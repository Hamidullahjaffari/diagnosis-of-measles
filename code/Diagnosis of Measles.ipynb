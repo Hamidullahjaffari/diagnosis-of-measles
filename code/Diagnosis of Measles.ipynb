{
 "cells": [
  {
   "cell_type": "markdown",
   "id": "35d426b1",
   "metadata": {},
   "source": [
    "# in the name of Allah\n"
   ]
  },
  {
   "cell_type": "markdown",
   "id": "b8b43767",
   "metadata": {},
   "source": [
    "# Diagnosis of Measles Disease Using Image Processing in children under five Afghan children\n",
    "\n"
   ]
  },
  {
   "cell_type": "markdown",
   "id": "3d59d142",
   "metadata": {},
   "source": [
    "## the library we are using for this project."
   ]
  },
  {
   "cell_type": "code",
   "execution_count": null,
   "id": "2a7be196",
   "metadata": {},
   "outputs": [],
   "source": [
    "# importing libraries\n",
    "import pandas as pd\n",
    "import numpy as np\n",
    "import matplotlib.pyplot as plt\n",
    "\n",
    "\n",
    "import seaborn as sns\n",
    "import os\n",
    "import glob\n",
    "from keras import models, regularizers, layers, optimizers, losses, metrics\n",
    "from keras.models import Sequential\n",
    "from keras.layers import Dense,Dropout,Flatten ,Conv2D,MaxPool2D\n",
    "from tensorflow.keras.optimizers import Adam\n",
    "from tensorflow.keras.losses import SparseCategoricalCrossentropy\n",
    "from tensorflow.keras.callbacks import EarlyStopping\n",
    "import imgaug.augmenters as iaa\n",
    "import cv2"
   ]
  },
  {
   "cell_type": "code",
   "execution_count": 2,
   "id": "1587b475",
   "metadata": {},
   "outputs": [],
   "source": [
    "import tensorflow as tf"
   ]
  },
  {
   "cell_type": "code",
   "execution_count": 3,
   "id": "f76bda56",
   "metadata": {},
   "outputs": [],
   "source": [
    "from PIL import Image\n",
    "from tensorflow.keras.preprocessing.image import load_img, img_to_array"
   ]
  },
  {
   "cell_type": "code",
   "execution_count": 4,
   "id": "dc41264f",
   "metadata": {},
   "outputs": [],
   "source": [
    "#train_image = []\n",
    "#train_label =[]\n",
    "#img_size =100\n",
    "\n",
    "#for dir_path in glob.glob('../dataset/measles/train/*'):\n",
    "    #label =dir_path.split('\\\\')[-1]\n",
    "    #for img_path in os.listdir(dir_path):\n",
    "        #imgpath =os.path.join(dir_path,img_path)\n",
    "        #img =cv2.imread(imgpath,cv2.IMREAD_GRAYSCALE)\n",
    "        #img1 =cv2.resize(img,(img_size,img_size))\n",
    "        #train_image.append(img)\n",
    "        #train_label.append(label)\n"
   ]
  },
  {
   "cell_type": "markdown",
   "id": "72d35dcd",
   "metadata": {},
   "source": [
    "# Spliting Data to train ,test and val and labeling them"
   ]
  },
  {
   "cell_type": "code",
   "execution_count": 6,
   "id": "0092cba5",
   "metadata": {},
   "outputs": [],
   "source": [
    "import splitfolders"
   ]
  },
  {
   "cell_type": "code",
   "execution_count": 7,
   "id": "6f97cbd6",
   "metadata": {},
   "outputs": [],
   "source": [
    "#input_folder = \"F:/final_project_material/dataset/measles/train/\"\n",
    "#splitfolders.ratio(input_folder,output='../dataset/measles/',seed=42,ratio=(.7,.2,.1),group_prefix=None)\n",
    "#print(\"done Your data has been splited\")"
   ]
  },
  {
   "cell_type": "code",
   "execution_count": 9,
   "id": "f318fed4",
   "metadata": {},
   "outputs": [],
   "source": [
    "from tensorflow.keras.preprocessing.image import ImageDataGenerator\n",
    "from tensorflow.keras.preprocessing import image\n",
    "from tensorflow.keras.optimizers import RMSprop"
   ]
  },
  {
   "cell_type": "markdown",
   "id": "2b5eb4f2",
   "metadata": {},
   "source": [
    "## Rescaling the dataset"
   ]
  },
  {
   "cell_type": "code",
   "execution_count": 10,
   "id": "fe8881b8",
   "metadata": {},
   "outputs": [],
   "source": [
    "train =ImageDataGenerator(rescale=1./255)\n",
    "validatoin = ImageDataGenerator(rescale=1./255)\n",
    "test = ImageDataGenerator(rescale=1/255)"
   ]
  },
  {
   "cell_type": "code",
   "execution_count": 11,
   "id": "91b21039",
   "metadata": {},
   "outputs": [
    {
     "name": "stdout",
     "output_type": "stream",
     "text": [
      "Found 809 images belonging to 4 classes.\n",
      "Found 230 images belonging to 4 classes.\n",
      "Found 120 images belonging to 4 classes.\n"
     ]
    }
   ],
   "source": [
    "train_data = train.flow_from_directory('../dataset/measles/train',\n",
    "                                      target_size = (224, 224),\n",
    "                                     classes =['measles','monkeypox','normal','other'],\n",
    "                                      batch_size =10,)\n",
    "\n",
    "validation_data = validatoin.flow_from_directory('../dataset/measles/val',\n",
    "                                      target_size = (224, 224),\n",
    "                                    classes =['measles','monkeypox','normal','other'],\n",
    "                                                 batch_size =10,)\n",
    "\n",
    "test_data = train.flow_from_directory('../dataset/measles/test',\n",
    "                                       target_size = (224, 224),\n",
    "                                    classes =['measles','monkeypox','normal','other'],\n",
    "                                      batch_size =10,)"
   ]
  },
  {
   "cell_type": "markdown",
   "id": "ca9d3b33",
   "metadata": {},
   "source": [
    "# Making xtrain and ytrain for SVM & KNN"
   ]
  },
  {
   "cell_type": "code",
   "execution_count": 25,
   "id": "921bb281",
   "metadata": {},
   "outputs": [],
   "source": [
    "y=np.concatenate([train_data.next()[1] for i in range(train_data.__len__())])\n",
    "x=np.concatenate([train_data.next()[0] for i in range(train_data.__len__())])\n",
    "\n",
    "\n"
   ]
  },
  {
   "cell_type": "code",
   "execution_count": 21,
   "id": "db28d26f",
   "metadata": {},
   "outputs": [
    {
     "name": "stdout",
     "output_type": "stream",
     "text": [
      "809\n",
      "809\n"
     ]
    }
   ],
   "source": [
    "print(len(x))\n",
    "print(len(y))"
   ]
  },
  {
   "cell_type": "code",
   "execution_count": 37,
   "id": "72e473ab",
   "metadata": {},
   "outputs": [
    {
     "name": "stdout",
     "output_type": "stream",
     "text": [
      "809\n",
      "(809, 150528)\n"
     ]
    }
   ],
   "source": [
    "labels=[]\n",
    "for label in y:\n",
    "    labels.append(np.argmax(label))\n",
    "print(len(labels))\n",
    "x =x.reshape(len(x),-1)\n",
    "\n",
    "print(x.shape)\n"
   ]
  },
  {
   "cell_type": "markdown",
   "id": "c8d275bd",
   "metadata": {},
   "source": [
    "# Classification via SVM"
   ]
  },
  {
   "cell_type": "code",
   "execution_count": 28,
   "id": "19e9d6cb",
   "metadata": {},
   "outputs": [
    {
     "data": {
      "text/html": [
       "<style>#sk-container-id-1 {color: black;background-color: white;}#sk-container-id-1 pre{padding: 0;}#sk-container-id-1 div.sk-toggleable {background-color: white;}#sk-container-id-1 label.sk-toggleable__label {cursor: pointer;display: block;width: 100%;margin-bottom: 0;padding: 0.3em;box-sizing: border-box;text-align: center;}#sk-container-id-1 label.sk-toggleable__label-arrow:before {content: \"▸\";float: left;margin-right: 0.25em;color: #696969;}#sk-container-id-1 label.sk-toggleable__label-arrow:hover:before {color: black;}#sk-container-id-1 div.sk-estimator:hover label.sk-toggleable__label-arrow:before {color: black;}#sk-container-id-1 div.sk-toggleable__content {max-height: 0;max-width: 0;overflow: hidden;text-align: left;background-color: #f0f8ff;}#sk-container-id-1 div.sk-toggleable__content pre {margin: 0.2em;color: black;border-radius: 0.25em;background-color: #f0f8ff;}#sk-container-id-1 input.sk-toggleable__control:checked~div.sk-toggleable__content {max-height: 200px;max-width: 100%;overflow: auto;}#sk-container-id-1 input.sk-toggleable__control:checked~label.sk-toggleable__label-arrow:before {content: \"▾\";}#sk-container-id-1 div.sk-estimator input.sk-toggleable__control:checked~label.sk-toggleable__label {background-color: #d4ebff;}#sk-container-id-1 div.sk-label input.sk-toggleable__control:checked~label.sk-toggleable__label {background-color: #d4ebff;}#sk-container-id-1 input.sk-hidden--visually {border: 0;clip: rect(1px 1px 1px 1px);clip: rect(1px, 1px, 1px, 1px);height: 1px;margin: -1px;overflow: hidden;padding: 0;position: absolute;width: 1px;}#sk-container-id-1 div.sk-estimator {font-family: monospace;background-color: #f0f8ff;border: 1px dotted black;border-radius: 0.25em;box-sizing: border-box;margin-bottom: 0.5em;}#sk-container-id-1 div.sk-estimator:hover {background-color: #d4ebff;}#sk-container-id-1 div.sk-parallel-item::after {content: \"\";width: 100%;border-bottom: 1px solid gray;flex-grow: 1;}#sk-container-id-1 div.sk-label:hover label.sk-toggleable__label {background-color: #d4ebff;}#sk-container-id-1 div.sk-serial::before {content: \"\";position: absolute;border-left: 1px solid gray;box-sizing: border-box;top: 0;bottom: 0;left: 50%;z-index: 0;}#sk-container-id-1 div.sk-serial {display: flex;flex-direction: column;align-items: center;background-color: white;padding-right: 0.2em;padding-left: 0.2em;position: relative;}#sk-container-id-1 div.sk-item {position: relative;z-index: 1;}#sk-container-id-1 div.sk-parallel {display: flex;align-items: stretch;justify-content: center;background-color: white;position: relative;}#sk-container-id-1 div.sk-item::before, #sk-container-id-1 div.sk-parallel-item::before {content: \"\";position: absolute;border-left: 1px solid gray;box-sizing: border-box;top: 0;bottom: 0;left: 50%;z-index: -1;}#sk-container-id-1 div.sk-parallel-item {display: flex;flex-direction: column;z-index: 1;position: relative;background-color: white;}#sk-container-id-1 div.sk-parallel-item:first-child::after {align-self: flex-end;width: 50%;}#sk-container-id-1 div.sk-parallel-item:last-child::after {align-self: flex-start;width: 50%;}#sk-container-id-1 div.sk-parallel-item:only-child::after {width: 0;}#sk-container-id-1 div.sk-dashed-wrapped {border: 1px dashed gray;margin: 0 0.4em 0.5em 0.4em;box-sizing: border-box;padding-bottom: 0.4em;background-color: white;}#sk-container-id-1 div.sk-label label {font-family: monospace;font-weight: bold;display: inline-block;line-height: 1.2em;}#sk-container-id-1 div.sk-label-container {text-align: center;}#sk-container-id-1 div.sk-container {/* jupyter's `normalize.less` sets `[hidden] { display: none; }` but bootstrap.min.css set `[hidden] { display: none !important; }` so we also need the `!important` here to be able to override the default hidden behavior on the sphinx rendered scikit-learn.org. See: https://github.com/scikit-learn/scikit-learn/issues/21755 */display: inline-block !important;position: relative;}#sk-container-id-1 div.sk-text-repr-fallback {display: none;}</style><div id=\"sk-container-id-1\" class=\"sk-top-container\"><div class=\"sk-text-repr-fallback\"><pre>SVC(C=1, gamma=&#x27;auto&#x27;, kernel=&#x27;poly&#x27;)</pre><b>In a Jupyter environment, please rerun this cell to show the HTML representation or trust the notebook. <br />On GitHub, the HTML representation is unable to render, please try loading this page with nbviewer.org.</b></div><div class=\"sk-container\" hidden><div class=\"sk-item\"><div class=\"sk-estimator sk-toggleable\"><input class=\"sk-toggleable__control sk-hidden--visually\" id=\"sk-estimator-id-1\" type=\"checkbox\" checked><label for=\"sk-estimator-id-1\" class=\"sk-toggleable__label sk-toggleable__label-arrow\">SVC</label><div class=\"sk-toggleable__content\"><pre>SVC(C=1, gamma=&#x27;auto&#x27;, kernel=&#x27;poly&#x27;)</pre></div></div></div></div></div>"
      ],
      "text/plain": [
       "SVC(C=1, gamma='auto', kernel='poly')"
      ]
     },
     "execution_count": 28,
     "metadata": {},
     "output_type": "execute_result"
    }
   ],
   "source": [
    "from sklearn.svm import SVC\n",
    "model=SVC(C=1,kernel ='poly',gamma='auto')\n",
    "model.fit(x,labels)"
   ]
  },
  {
   "cell_type": "markdown",
   "id": "f87892d9",
   "metadata": {},
   "source": [
    "# Making xtest and ytest fro SVM & KNN"
   ]
  },
  {
   "cell_type": "code",
   "execution_count": null,
   "id": "3569bff8",
   "metadata": {},
   "outputs": [],
   "source": [
    "ty=np.concatenate([validation_data.next()[1] for i in range(validation_data.__len__())])\n",
    "tx=np.concatenate([validation_data.next()[0] for i in range(validation_data.__len__())])\n"
   ]
  },
  {
   "cell_type": "code",
   "execution_count": 38,
   "id": "d5fd68c5",
   "metadata": {},
   "outputs": [
    {
     "name": "stdout",
     "output_type": "stream",
     "text": [
      "230\n",
      "(230, 150528)\n"
     ]
    }
   ],
   "source": [
    "tlabels=[]\n",
    "for label in ty:\n",
    "    tlabels.append(np.argmax(label))\n",
    "print(len(tlabels))\n",
    "tx =tx.reshape(len(tx),-1)\n",
    "\n",
    "print(tx.shape)\n"
   ]
  },
  {
   "cell_type": "code",
   "execution_count": 32,
   "id": "bfead42b",
   "metadata": {},
   "outputs": [],
   "source": [
    "\n",
    "y_pred = model.predict(tx)"
   ]
  },
  {
   "cell_type": "code",
   "execution_count": 42,
   "id": "9a0dadf9",
   "metadata": {},
   "outputs": [
    {
     "name": "stdout",
     "output_type": "stream",
     "text": [
      "[[ 9 15 11  3]\n",
      " [13 18 17  7]\n",
      " [21 34 38 12]\n",
      " [ 3 14 10  5]]\n",
      "              precision    recall  f1-score   support\n",
      "\n",
      "           0       0.20      0.24      0.21        38\n",
      "           1       0.22      0.33      0.26        55\n",
      "           2       0.50      0.36      0.42       105\n",
      "           3       0.19      0.16      0.17        32\n",
      "\n",
      "    accuracy                           0.30       230\n",
      "   macro avg       0.28      0.27      0.27       230\n",
      "weighted avg       0.34      0.30      0.31       230\n",
      "\n",
      "0.30434782608695654\n"
     ]
    }
   ],
   "source": [
    "from sklearn.metrics import confusion_matrix,classification_report,accuracy_score\n",
    "print(confusion_matrix(tlabels,y_pred))\n",
    "print(classification_report(tlabels,y_pred))\n",
    "print(accuracy_score(tlabels,y_pred))"
   ]
  },
  {
   "cell_type": "markdown",
   "id": "e7a3396f",
   "metadata": {},
   "source": [
    "# Classification via KNN"
   ]
  },
  {
   "cell_type": "code",
   "execution_count": 45,
   "id": "6f794c4b",
   "metadata": {},
   "outputs": [
    {
     "data": {
      "text/html": [
       "<style>#sk-container-id-3 {color: black;background-color: white;}#sk-container-id-3 pre{padding: 0;}#sk-container-id-3 div.sk-toggleable {background-color: white;}#sk-container-id-3 label.sk-toggleable__label {cursor: pointer;display: block;width: 100%;margin-bottom: 0;padding: 0.3em;box-sizing: border-box;text-align: center;}#sk-container-id-3 label.sk-toggleable__label-arrow:before {content: \"▸\";float: left;margin-right: 0.25em;color: #696969;}#sk-container-id-3 label.sk-toggleable__label-arrow:hover:before {color: black;}#sk-container-id-3 div.sk-estimator:hover label.sk-toggleable__label-arrow:before {color: black;}#sk-container-id-3 div.sk-toggleable__content {max-height: 0;max-width: 0;overflow: hidden;text-align: left;background-color: #f0f8ff;}#sk-container-id-3 div.sk-toggleable__content pre {margin: 0.2em;color: black;border-radius: 0.25em;background-color: #f0f8ff;}#sk-container-id-3 input.sk-toggleable__control:checked~div.sk-toggleable__content {max-height: 200px;max-width: 100%;overflow: auto;}#sk-container-id-3 input.sk-toggleable__control:checked~label.sk-toggleable__label-arrow:before {content: \"▾\";}#sk-container-id-3 div.sk-estimator input.sk-toggleable__control:checked~label.sk-toggleable__label {background-color: #d4ebff;}#sk-container-id-3 div.sk-label input.sk-toggleable__control:checked~label.sk-toggleable__label {background-color: #d4ebff;}#sk-container-id-3 input.sk-hidden--visually {border: 0;clip: rect(1px 1px 1px 1px);clip: rect(1px, 1px, 1px, 1px);height: 1px;margin: -1px;overflow: hidden;padding: 0;position: absolute;width: 1px;}#sk-container-id-3 div.sk-estimator {font-family: monospace;background-color: #f0f8ff;border: 1px dotted black;border-radius: 0.25em;box-sizing: border-box;margin-bottom: 0.5em;}#sk-container-id-3 div.sk-estimator:hover {background-color: #d4ebff;}#sk-container-id-3 div.sk-parallel-item::after {content: \"\";width: 100%;border-bottom: 1px solid gray;flex-grow: 1;}#sk-container-id-3 div.sk-label:hover label.sk-toggleable__label {background-color: #d4ebff;}#sk-container-id-3 div.sk-serial::before {content: \"\";position: absolute;border-left: 1px solid gray;box-sizing: border-box;top: 0;bottom: 0;left: 50%;z-index: 0;}#sk-container-id-3 div.sk-serial {display: flex;flex-direction: column;align-items: center;background-color: white;padding-right: 0.2em;padding-left: 0.2em;position: relative;}#sk-container-id-3 div.sk-item {position: relative;z-index: 1;}#sk-container-id-3 div.sk-parallel {display: flex;align-items: stretch;justify-content: center;background-color: white;position: relative;}#sk-container-id-3 div.sk-item::before, #sk-container-id-3 div.sk-parallel-item::before {content: \"\";position: absolute;border-left: 1px solid gray;box-sizing: border-box;top: 0;bottom: 0;left: 50%;z-index: -1;}#sk-container-id-3 div.sk-parallel-item {display: flex;flex-direction: column;z-index: 1;position: relative;background-color: white;}#sk-container-id-3 div.sk-parallel-item:first-child::after {align-self: flex-end;width: 50%;}#sk-container-id-3 div.sk-parallel-item:last-child::after {align-self: flex-start;width: 50%;}#sk-container-id-3 div.sk-parallel-item:only-child::after {width: 0;}#sk-container-id-3 div.sk-dashed-wrapped {border: 1px dashed gray;margin: 0 0.4em 0.5em 0.4em;box-sizing: border-box;padding-bottom: 0.4em;background-color: white;}#sk-container-id-3 div.sk-label label {font-family: monospace;font-weight: bold;display: inline-block;line-height: 1.2em;}#sk-container-id-3 div.sk-label-container {text-align: center;}#sk-container-id-3 div.sk-container {/* jupyter's `normalize.less` sets `[hidden] { display: none; }` but bootstrap.min.css set `[hidden] { display: none !important; }` so we also need the `!important` here to be able to override the default hidden behavior on the sphinx rendered scikit-learn.org. See: https://github.com/scikit-learn/scikit-learn/issues/21755 */display: inline-block !important;position: relative;}#sk-container-id-3 div.sk-text-repr-fallback {display: none;}</style><div id=\"sk-container-id-3\" class=\"sk-top-container\"><div class=\"sk-text-repr-fallback\"><pre>KNeighborsClassifier(n_neighbors=7)</pre><b>In a Jupyter environment, please rerun this cell to show the HTML representation or trust the notebook. <br />On GitHub, the HTML representation is unable to render, please try loading this page with nbviewer.org.</b></div><div class=\"sk-container\" hidden><div class=\"sk-item\"><div class=\"sk-estimator sk-toggleable\"><input class=\"sk-toggleable__control sk-hidden--visually\" id=\"sk-estimator-id-3\" type=\"checkbox\" checked><label for=\"sk-estimator-id-3\" class=\"sk-toggleable__label sk-toggleable__label-arrow\">KNeighborsClassifier</label><div class=\"sk-toggleable__content\"><pre>KNeighborsClassifier(n_neighbors=7)</pre></div></div></div></div></div>"
      ],
      "text/plain": [
       "KNeighborsClassifier(n_neighbors=7)"
      ]
     },
     "execution_count": 45,
     "metadata": {},
     "output_type": "execute_result"
    }
   ],
   "source": [
    "from sklearn.neighbors import KNeighborsClassifier\n",
    "knn = KNeighborsClassifier(n_neighbors =7)\n",
    "knn.fit(x,labels)"
   ]
  },
  {
   "cell_type": "code",
   "execution_count": 46,
   "id": "c588235a",
   "metadata": {},
   "outputs": [],
   "source": [
    "y_pred = knn.predict(tx)"
   ]
  },
  {
   "cell_type": "code",
   "execution_count": 47,
   "id": "007fe3be",
   "metadata": {},
   "outputs": [
    {
     "name": "stdout",
     "output_type": "stream",
     "text": [
      "[[ 6 14 15  3]\n",
      " [ 9 22 21  3]\n",
      " [15 37 45  8]\n",
      " [ 2 14 13  3]]\n",
      "              precision    recall  f1-score   support\n",
      "\n",
      "           0       0.19      0.16      0.17        38\n",
      "           1       0.25      0.40      0.31        55\n",
      "           2       0.48      0.43      0.45       105\n",
      "           3       0.18      0.09      0.12        32\n",
      "\n",
      "    accuracy                           0.33       230\n",
      "   macro avg       0.27      0.27      0.26       230\n",
      "weighted avg       0.33      0.33      0.33       230\n",
      "\n",
      "0.33043478260869563\n"
     ]
    }
   ],
   "source": [
    "from sklearn.metrics import confusion_matrix,classification_report,accuracy_score\n",
    "print(confusion_matrix(tlabels,y_pred))\n",
    "print(classification_report(tlabels,y_pred))\n",
    "print(accuracy_score(tlabels,y_pred))"
   ]
  },
  {
   "cell_type": "code",
   "execution_count": null,
   "id": "78dcea42",
   "metadata": {},
   "outputs": [],
   "source": [
    "classes= ['measles','monkeypox','normal','other']\n",
    "\n"
   ]
  },
  {
   "cell_type": "markdown",
   "id": "a7c34eaf",
   "metadata": {},
   "source": [
    "# Ploting the images"
   ]
  },
  {
   "cell_type": "code",
   "execution_count": null,
   "id": "50c0ca29",
   "metadata": {},
   "outputs": [],
   "source": [
    "plt.figure(figsize =(15,15))\n",
    "for i in range(25):\n",
    "    plt.subplot(5,5,i+1)\n",
    "    random_num =np.random.randint(0,len(xtrain))\n",
    "    plt.imshow(xtrain[random_num])\n",
    "    plt.title(classes[np.argmax(ytrain[random_num])])\n",
    "   \n",
    " \n"
   ]
  },
  {
   "cell_type": "markdown",
   "id": "a55a7660",
   "metadata": {},
   "source": [
    "# Classification via CNN"
   ]
  },
  {
   "cell_type": "code",
   "execution_count": 48,
   "id": "fde3fa8c",
   "metadata": {},
   "outputs": [],
   "source": [
    "\n",
    "from keras import models, regularizers, layers, optimizers, losses, metrics\n",
    "from keras.models import Sequential\n",
    "from keras.layers import Dense,Dropout,Flatten ,Conv2D,MaxPool2D\n",
    "from tensorflow.keras.optimizers import Adam\n",
    "from tensorflow.keras.losses import SparseCategoricalCrossentropy\n",
    "from tensorflow.keras.callbacks import EarlyStopping\n"
   ]
  },
  {
   "cell_type": "code",
   "execution_count": 49,
   "id": "03b022e2",
   "metadata": {},
   "outputs": [],
   "source": [
    "INPUT_SHAPE =(224,224,3)\n",
    "model =Sequential()\n",
    "model.add(tf.keras.layers.Conv2D(filters=16,kernel_size=(3,3),strides=(1,1),activation='relu',padding='valid',input_shape=INPUT_SHAPE))\n",
    "model.add(tf.keras.layers.MaxPooling2D(pool_size=(2,2)))\n",
    "model.add(tf.keras.layers.Conv2D(filters=32,kernel_size=(3,3),strides=(1,1),activation='relu',padding='valid',input_shape=INPUT_SHAPE))\n",
    "model.add(tf.keras.layers.MaxPooling2D(pool_size=(2,2))) \n",
    "model.add(tf.keras.layers.Flatten(input_shape =(224,224,3)))\n",
    "model.add(tf.keras.layers.Dense(256,activation='relu'))\n",
    "model.add(tf.keras.layers.Dense(4,activation='softmax'))"
   ]
  },
  {
   "cell_type": "code",
   "execution_count": 50,
   "id": "aa6e5d51",
   "metadata": {},
   "outputs": [
    {
     "name": "stdout",
     "output_type": "stream",
     "text": [
      "Model: \"sequential\"\n",
      "_________________________________________________________________\n",
      " Layer (type)                Output Shape              Param #   \n",
      "=================================================================\n",
      " conv2d (Conv2D)             (None, 222, 222, 16)      448       \n",
      "                                                                 \n",
      " max_pooling2d (MaxPooling2D  (None, 111, 111, 16)     0         \n",
      " )                                                               \n",
      "                                                                 \n",
      " conv2d_1 (Conv2D)           (None, 109, 109, 32)      4640      \n",
      "                                                                 \n",
      " max_pooling2d_1 (MaxPooling  (None, 54, 54, 32)       0         \n",
      " 2D)                                                             \n",
      "                                                                 \n",
      " flatten (Flatten)           (None, 93312)             0         \n",
      "                                                                 \n",
      " dense (Dense)               (None, 256)               23888128  \n",
      "                                                                 \n",
      " dense_1 (Dense)             (None, 4)                 1028      \n",
      "                                                                 \n",
      "=================================================================\n",
      "Total params: 23,894,244\n",
      "Trainable params: 23,894,244\n",
      "Non-trainable params: 0\n",
      "_________________________________________________________________\n"
     ]
    }
   ],
   "source": [
    "model.compile(\n",
    "    optimizer='adam',\n",
    "    loss='binary_crossentropy',\n",
    "    metrics =['accuracy']\n",
    ")\n",
    "es = EarlyStopping(monitor='val_loss', min_delta=0, mode='auto', verbose=0,\n",
    " patience=7,baseline=None,restore_best_weights =True)\n",
    "model.summary()"
   ]
  },
  {
   "cell_type": "code",
   "execution_count": 51,
   "id": "2bbb2e2f",
   "metadata": {},
   "outputs": [
    {
     "name": "stdout",
     "output_type": "stream",
     "text": [
      "Epoch 1/5\n",
      "81/81 [==============================] - 159s 2s/step - loss: 0.9908 - accuracy: 0.4536 - val_loss: 0.4837 - val_accuracy: 0.4783\n",
      "Epoch 2/5\n",
      "81/81 [==============================] - 172s 2s/step - loss: 0.4165 - accuracy: 0.5785 - val_loss: 0.4904 - val_accuracy: 0.5348\n",
      "Epoch 3/5\n",
      "81/81 [==============================] - 238s 3s/step - loss: 0.3011 - accuracy: 0.7466 - val_loss: 0.4727 - val_accuracy: 0.6130\n",
      "Epoch 4/5\n",
      "81/81 [==============================] - 183s 2s/step - loss: 0.2025 - accuracy: 0.8554 - val_loss: 0.4870 - val_accuracy: 0.6261\n",
      "Epoch 5/5\n",
      "81/81 [==============================] - 159s 2s/step - loss: 0.1371 - accuracy: 0.9061 - val_loss: 0.5571 - val_accuracy: 0.6435\n"
     ]
    }
   ],
   "source": [
    "batch_size= 50\n",
    "history = model.fit(train_data,\n",
    "                              epochs=5,\n",
    "                              #steps_per_epoch =  809// batch_size,\n",
    "                              validation_data=validation_data,\n",
    "                              callbacks =[es]\n",
    "                              #validation_steps = 230// batch_size,\n",
    "                            )"
   ]
  },
  {
   "cell_type": "code",
   "execution_count": 52,
   "id": "b5f964a9",
   "metadata": {},
   "outputs": [
    {
     "name": "stdout",
     "output_type": "stream",
     "text": [
      "12/12 [==============================] - 7s 532ms/step - loss: 0.6064 - accuracy: 0.6083\n"
     ]
    }
   ],
   "source": [
    "test =model.evaluate(test_data)"
   ]
  },
  {
   "cell_type": "code",
   "execution_count": 14,
   "id": "db584d48",
   "metadata": {},
   "outputs": [
    {
     "data": {
      "text/plain": [
       "<AxesSubplot:>"
      ]
     },
     "execution_count": 14,
     "metadata": {},
     "output_type": "execute_result"
    },
    {
     "data": {
      "image/png": "[encoded data removed]",
      "text/plain": [
       "<Figure size 720x288 with 2 Axes>"
      ]
     },
     "metadata": {
      "needs_background": "light"
     },
     "output_type": "display_data"
    }
   ],
   "source": [
    "fig, ax =plt.subplots(1,2,figsize =(10,4))\n",
    "history_df = pd.DataFrame(history.history)\n",
    "history_df[['loss','val_loss']].plot(kind='line',ax =ax[0])\n",
    "history_df[['accuracy','val_accuracy']].plot(kind='line',ax=ax[1])"
   ]
  },
  {
   "cell_type": "code",
   "execution_count": 15,
   "id": "74efeaf5",
   "metadata": {},
   "outputs": [
    {
     "name": "stdout",
     "output_type": "stream",
     "text": [
      "12/12 - 6s - 6s/epoch - 487ms/step\n"
     ]
    }
   ],
   "source": [
    "y=np.concatenate([test_data.next()[1] for i in range(test_data.__len__())])\n",
    "true_labels=np.argmax(y, axis=-1)\n",
    "\n",
    "prediction= model.predict(test_data, verbose=2)\n",
    "prediction=np.argmax(prediction, axis=-1)"
   ]
  },
  {
   "cell_type": "code",
   "execution_count": 20,
   "id": "bbe8e2e6",
   "metadata": {},
   "outputs": [
    {
     "name": "stdout",
     "output_type": "stream",
     "text": [
      "[[[[0.15294118 0.427451   0.4784314 ]\n",
      "   [0.14509805 0.43921572 0.52156866]\n",
      "   [0.18823531 0.49803925 0.627451  ]\n",
      "   ...\n",
      "   [0.49803925 0.38431376 0.32941177]\n",
      "   [0.4431373  0.32941177 0.27450982]\n",
      "   [0.43137258 0.31764707 0.2627451 ]]\n",
      "\n",
      "  [[0.18431373 0.46274513 0.54901963]\n",
      "   [0.14509805 0.43529415 0.54901963]\n",
      "   [0.18431373 0.49803925 0.63529414]\n",
      "   ...\n",
      "   [0.4784314  0.3647059  0.30980393]\n",
      "   [0.46274513 0.34509805 0.2901961 ]\n",
      "   [0.47058827 0.3529412  0.29803923]]\n",
      "\n",
      "  [[0.16078432 0.454902   0.58431375]\n",
      "   [0.14117648 0.43921572 0.5882353 ]\n",
      "   [0.15686275 0.4666667  0.61960787]\n",
      "   ...\n",
      "   [0.454902   0.32941177 0.2784314 ]\n",
      "   [0.47058827 0.34509805 0.2901961 ]\n",
      "   [0.48627454 0.36078432 0.3019608 ]]\n",
      "\n",
      "  ...\n",
      "\n",
      "  [[0.14509805 0.34509805 0.47450984]\n",
      "   [0.06666667 0.2784314  0.4156863 ]\n",
      "   [0.04313726 0.2627451  0.39607847]\n",
      "   ...\n",
      "   [0.12941177 0.3803922  0.5176471 ]\n",
      "   [0.09803922 0.34901962 0.48627454]\n",
      "   [0.10588236 0.35686275 0.49411768]]\n",
      "\n",
      "  [[0.09803922 0.2901961  0.41960788]\n",
      "   [0.10196079 0.3019608  0.43921572]\n",
      "   [0.07058824 0.28235295 0.42352945]\n",
      "   ...\n",
      "   [0.10196079 0.3529412  0.4901961 ]\n",
      "   [0.09411766 0.34509805 0.48235297]\n",
      "   [0.12156864 0.37254903 0.50980395]]\n",
      "\n",
      "  [[0.07058824 0.26666668 0.39607847]\n",
      "   [0.08627451 0.28627452 0.427451  ]\n",
      "   [0.07450981 0.28235295 0.42352945]\n",
      "   ...\n",
      "   [0.10196079 0.3529412  0.48627454]\n",
      "   [0.07843138 0.32941177 0.4666667 ]\n",
      "   [0.09803922 0.34901962 0.48627454]]]\n",
      "\n",
      "\n",
      " [[[0.8117648  0.8117648  0.8117648 ]\n",
      "   [0.8117648  0.8117648  0.8117648 ]\n",
      "   [0.8117648  0.8117648  0.8117648 ]\n",
      "   ...\n",
      "   [0.08627451 0.04705883 0.0509804 ]\n",
      "   [0.08627451 0.04705883 0.0509804 ]\n",
      "   [0.08627451 0.04705883 0.0509804 ]]\n",
      "\n",
      "  [[0.8117648  0.8117648  0.8117648 ]\n",
      "   [0.8117648  0.8117648  0.8117648 ]\n",
      "   [0.8117648  0.8117648  0.8117648 ]\n",
      "   ...\n",
      "   [0.08235294 0.04313726 0.04705883]\n",
      "   [0.08235294 0.04313726 0.04705883]\n",
      "   [0.08235294 0.04313726 0.04705883]]\n",
      "\n",
      "  [[0.8117648  0.8117648  0.8117648 ]\n",
      "   [0.8117648  0.8117648  0.8117648 ]\n",
      "   [0.8117648  0.8117648  0.8117648 ]\n",
      "   ...\n",
      "   [0.07450981 0.03529412 0.03921569]\n",
      "   [0.07450981 0.03529412 0.03921569]\n",
      "   [0.07450981 0.03529412 0.03921569]]\n",
      "\n",
      "  ...\n",
      "\n",
      "  [[0.83921576 0.83921576 0.83921576]\n",
      "   [0.83921576 0.83921576 0.83921576]\n",
      "   [0.83921576 0.83921576 0.83921576]\n",
      "   ...\n",
      "   [0.29803923 0.19215688 0.11764707]\n",
      "   [0.1764706  0.07450981 0.00392157]\n",
      "   [0.24705884 0.14509805 0.07843138]]\n",
      "\n",
      "  [[0.83921576 0.83921576 0.83921576]\n",
      "   [0.83921576 0.83921576 0.83921576]\n",
      "   [0.83921576 0.83921576 0.83921576]\n",
      "   ...\n",
      "   [0.30980393 0.20392159 0.12941177]\n",
      "   [0.18823531 0.08627451 0.01568628]\n",
      "   [0.26666668 0.16470589 0.09803922]]\n",
      "\n",
      "  [[0.83921576 0.83921576 0.83921576]\n",
      "   [0.83921576 0.83921576 0.83921576]\n",
      "   [0.83921576 0.83921576 0.83921576]\n",
      "   ...\n",
      "   [0.32156864 0.21568629 0.14117648]\n",
      "   [0.20000002 0.09411766 0.02352941]\n",
      "   [0.28235295 0.18039216 0.1137255 ]]]\n",
      "\n",
      "\n",
      " [[[0.7294118  0.5803922  0.5294118 ]\n",
      "   [0.81568635 0.67058825 0.61960787]\n",
      "   [0.85098046 0.7137255  0.654902  ]\n",
      "   ...\n",
      "   [0.91372555 0.78823537 0.73333335]\n",
      "   [0.9215687  0.7960785  0.74509805]\n",
      "   [0.92549026 0.8000001  0.7490196 ]]\n",
      "\n",
      "  [[0.7803922  0.6313726  0.5803922 ]\n",
      "   [0.83921576 0.69803923 0.6431373 ]\n",
      "   [0.86274517 0.72156864 0.6666667 ]\n",
      "   ...\n",
      "   [0.91372555 0.78823537 0.7372549 ]\n",
      "   [0.9215687  0.7960785  0.74509805]\n",
      "   [0.92549026 0.8000001  0.7490196 ]]\n",
      "\n",
      "  [[0.8196079  0.6745098  0.62352943]\n",
      "   [0.8588236  0.72156864 0.6666667 ]\n",
      "   [0.882353   0.74509805 0.6901961 ]\n",
      "   ...\n",
      "   [0.909804   0.7843138  0.7294118 ]\n",
      "   [0.9215687  0.7960785  0.7411765 ]\n",
      "   [0.92549026 0.80392164 0.74509805]]\n",
      "\n",
      "  ...\n",
      "\n",
      "  [[0.73333335 0.5254902  0.46274513]\n",
      "   [0.7372549  0.53333336 0.4666667 ]\n",
      "   [0.7254902  0.5176471  0.454902  ]\n",
      "   ...\n",
      "   [0.9686275  0.9843138  0.8941177 ]\n",
      "   [0.96470594 0.9803922  0.89019614]\n",
      "   [0.96470594 0.9803922  0.89019614]]\n",
      "\n",
      "  [[0.73333335 0.52156866 0.45882356]\n",
      "   [0.7372549  0.5294118  0.4666667 ]\n",
      "   [0.72156864 0.5137255  0.45098042]\n",
      "   ...\n",
      "   [0.9686275  0.9843138  0.89019614]\n",
      "   [0.96470594 0.9803922  0.8862746 ]\n",
      "   [0.96470594 0.9803922  0.8862746 ]]\n",
      "\n",
      "  [[0.7372549  0.5294118  0.4666667 ]\n",
      "   [0.74509805 0.5372549  0.47058827]\n",
      "   [0.73333335 0.5254902  0.454902  ]\n",
      "   ...\n",
      "   [0.9686275  0.9843138  0.8862746 ]\n",
      "   [0.96470594 0.9803922  0.882353  ]\n",
      "   [0.96470594 0.9803922  0.882353  ]]]\n",
      "\n",
      "\n",
      " ...\n",
      "\n",
      "\n",
      " [[[1.         1.         1.        ]\n",
      "   [1.         1.         1.        ]\n",
      "   [1.         1.         1.        ]\n",
      "   ...\n",
      "   [1.         1.         1.        ]\n",
      "   [1.         1.         1.        ]\n",
      "   [1.         1.         1.        ]]\n",
      "\n",
      "  [[1.         1.         1.        ]\n",
      "   [1.         1.         1.        ]\n",
      "   [1.         1.         1.        ]\n",
      "   ...\n",
      "   [1.         1.         1.        ]\n",
      "   [1.         1.         1.        ]\n",
      "   [1.         1.         1.        ]]\n",
      "\n",
      "  [[1.         1.         1.        ]\n",
      "   [1.         1.         1.        ]\n",
      "   [1.         1.         1.        ]\n",
      "   ...\n",
      "   [1.         1.         1.        ]\n",
      "   [1.         1.         1.        ]\n",
      "   [1.         1.         1.        ]]\n",
      "\n",
      "  ...\n",
      "\n",
      "  [[1.         1.         1.        ]\n",
      "   [1.         1.         1.        ]\n",
      "   [1.         1.         1.        ]\n",
      "   ...\n",
      "   [1.         1.         1.        ]\n",
      "   [1.         1.         1.        ]\n",
      "   [1.         1.         1.        ]]\n",
      "\n",
      "  [[1.         1.         1.        ]\n",
      "   [1.         1.         1.        ]\n",
      "   [1.         1.         1.        ]\n",
      "   ...\n",
      "   [1.         1.         1.        ]\n",
      "   [1.         1.         1.        ]\n",
      "   [1.         1.         1.        ]]\n",
      "\n",
      "  [[1.         1.         1.        ]\n",
      "   [1.         1.         1.        ]\n",
      "   [1.         1.         1.        ]\n",
      "   ...\n",
      "   [1.         1.         1.        ]\n",
      "   [1.         1.         1.        ]\n",
      "   [1.         1.         1.        ]]]\n",
      "\n",
      "\n",
      " [[[0.45098042 0.46274513 0.48235297]\n",
      "   [0.45882356 0.47058827 0.4901961 ]\n",
      "   [0.46274513 0.47450984 0.49411768]\n",
      "   ...\n",
      "   [0.6392157  0.68235296 0.7058824 ]\n",
      "   [0.61960787 0.65882355 0.6862745 ]\n",
      "   [0.6117647  0.6509804  0.6862745 ]]\n",
      "\n",
      "  [[0.46274513 0.47450984 0.49411768]\n",
      "   [0.4666667  0.4784314  0.5019608 ]\n",
      "   [0.47058827 0.48235297 0.5019608 ]\n",
      "   ...\n",
      "   [0.6431373  0.6862745  0.70980394]\n",
      "   [0.62352943 0.6627451  0.6901961 ]\n",
      "   [0.6156863  0.654902   0.6901961 ]]\n",
      "\n",
      "  [[0.48235297 0.49411768 0.5137255 ]\n",
      "   [0.48627454 0.49803925 0.5176471 ]\n",
      "   [0.4901961  0.5019608  0.52156866]\n",
      "   ...\n",
      "   [0.6431373  0.6862745  0.70980394]\n",
      "   [0.627451   0.6666667  0.69803923]\n",
      "   [0.62352943 0.6627451  0.69803923]]\n",
      "\n",
      "  ...\n",
      "\n",
      "  [[0.68235296 0.68235296 0.72156864]\n",
      "   [0.654902   0.654902   0.69411767]\n",
      "   [0.6745098  0.6745098  0.7137255 ]\n",
      "   ...\n",
      "   [0.33333334 0.34509805 0.3254902 ]\n",
      "   [0.5686275  0.5647059  0.34117648]\n",
      "   [0.654902   0.6392157  0.34901962]]\n",
      "\n",
      "  [[0.69803923 0.69803923 0.7372549 ]\n",
      "   [0.6666667  0.6666667  0.7058824 ]\n",
      "   [0.68235296 0.68235296 0.72156864]\n",
      "   ...\n",
      "   [0.3254902  0.34117648 0.30980393]\n",
      "   [0.57254905 0.57254905 0.34117648]\n",
      "   [0.627451   0.6156863  0.3254902 ]]\n",
      "\n",
      "  [[0.7176471  0.7176471  0.75294125]\n",
      "   [0.67058825 0.67058825 0.70980394]\n",
      "   [0.654902   0.654902   0.69411767]\n",
      "   ...\n",
      "   [0.34117648 0.36078432 0.32156864]\n",
      "   [0.57254905 0.5686275  0.3372549 ]\n",
      "   [0.58431375 0.5647059  0.3019608 ]]]\n",
      "\n",
      "\n",
      " [[[0.54901963 0.5176471  0.50980395]\n",
      "   [0.5176471  0.48627454 0.4784314 ]\n",
      "   [0.52156866 0.48627454 0.48235297]\n",
      "   ...\n",
      "   [0.4901961  0.4666667  0.4666667 ]\n",
      "   [0.5019608  0.4784314  0.4784314 ]\n",
      "   [0.54509807 0.52156866 0.52156866]]\n",
      "\n",
      "  [[0.5294118  0.49803925 0.4901961 ]\n",
      "   [0.454902   0.42352945 0.4156863 ]\n",
      "   [0.43137258 0.39607847 0.3921569 ]\n",
      "   ...\n",
      "   [0.47058827 0.44705886 0.44705886]\n",
      "   [0.5019608  0.4784314  0.4784314 ]\n",
      "   [0.5411765  0.5176471  0.5176471 ]]\n",
      "\n",
      "  [[0.5254902  0.49411768 0.48627454]\n",
      "   [0.38431376 0.3529412  0.34509805]\n",
      "   [0.3921569  0.35686275 0.34901962]\n",
      "   ...\n",
      "   [0.47450984 0.45098042 0.45098042]\n",
      "   [0.5058824  0.48235297 0.48235297]\n",
      "   [0.5529412  0.5294118  0.5294118 ]]\n",
      "\n",
      "  ...\n",
      "\n",
      "  [[0.2901961  0.27450982 0.2627451 ]\n",
      "   [0.24705884 0.23137257 0.21960786]\n",
      "   [0.16470589 0.14901961 0.13725491]\n",
      "   ...\n",
      "   [0.9960785  0.89019614 0.8078432 ]\n",
      "   [0.9921569  0.8862746  0.80392164]\n",
      "   [1.         0.8941177  0.8117648 ]]\n",
      "\n",
      "  [[0.30588236 0.2901961  0.2784314 ]\n",
      "   [0.23137257 0.21568629 0.20392159]\n",
      "   [0.14901961 0.13333334 0.12156864]\n",
      "   ...\n",
      "   [0.9960785  0.89019614 0.8078432 ]\n",
      "   [0.9921569  0.8862746  0.80392164]\n",
      "   [0.9960785  0.89019614 0.8078432 ]]\n",
      "\n",
      "  [[0.2784314  0.25882354 0.2509804 ]\n",
      "   [0.18823531 0.17254902 0.16078432]\n",
      "   [0.13333334 0.11764707 0.10588236]\n",
      "   ...\n",
      "   [0.9960785  0.89019614 0.80392164]\n",
      "   [0.98823535 0.882353   0.8000001 ]\n",
      "   [0.9921569  0.8862746  0.80392164]]]]\n"
     ]
    }
   ],
   "source": [
    "y=np.concatenate([test_data.next()[0] for i in range(test_data.__len__())])\n"
   ]
  },
  {
   "cell_type": "code",
   "execution_count": 16,
   "id": "07c63d4b",
   "metadata": {},
   "outputs": [
    {
     "name": "stdout",
     "output_type": "stream",
     "text": [
      "Accuracy: 0.658\n",
      "Precision: 0.686\n",
      "Recall: 0.658\n",
      "F-Measure: 0.651\n"
     ]
    }
   ],
   "source": [
    "from sklearn.metrics import accuracy_score\n",
    "acc=accuracy_score(true_labels,prediction) \n",
    "print('Accuracy: %.3f' % acc)\n",
    "from sklearn.metrics import precision_score\n",
    "precision = precision_score(true_labels,prediction,labels=[1,2], average='micro')\n",
    "print('Precision: %.3f' % precision)\n",
    "from sklearn.metrics import recall_score\n",
    "recall = recall_score(true_labels,prediction, average='weighted')\n",
    "print('Recall: %.3f' % recall)\n",
    "from sklearn.metrics import f1_score\n",
    "score = f1_score(true_labels,prediction, average='weighted')\n",
    "print('F-Measure: %.3f' % score)"
   ]
  },
  {
   "cell_type": "code",
   "execution_count": 17,
   "id": "0f44e148",
   "metadata": {},
   "outputs": [
    {
     "name": "stdout",
     "output_type": "stream",
     "text": [
      "[[14  2  3  1]\n",
      " [ 5 17  6  1]\n",
      " [ 4  7 42  1]\n",
      " [ 2  2  7  6]]\n",
      "              precision    recall  f1-score   support\n",
      "\n",
      "           0       0.56      0.70      0.62        20\n",
      "           1       0.61      0.59      0.60        29\n",
      "           2       0.72      0.78      0.75        54\n",
      "           3       0.67      0.35      0.46        17\n",
      "\n",
      "    accuracy                           0.66       120\n",
      "   macro avg       0.64      0.60      0.61       120\n",
      "weighted avg       0.66      0.66      0.65       120\n",
      "\n"
     ]
    }
   ],
   "source": [
    "from sklearn.metrics import confusion_matrix,classification_report\n",
    "cm = confusion_matrix(y_true=true_labels, y_pred=prediction)\n",
    "print(cm)\n",
    "cr = classification_report(y_true=true_labels, y_pred=prediction)\n",
    "print(cr)"
   ]
  },
  {
   "cell_type": "code",
   "execution_count": 18,
   "id": "58c5871f",
   "metadata": {},
   "outputs": [
    {
     "data": {
      "image/png": "[encoded data removed]",
      "text/plain": [
       "<Figure size 432x288 with 2 Axes>"
      ]
     },
     "metadata": {
      "needs_background": "light"
     },
     "output_type": "display_data"
    },
    {
     "data": {
      "text/plain": [
       "<Figure size 432x288 with 0 Axes>"
      ]
     },
     "metadata": {},
     "output_type": "display_data"
    }
   ],
   "source": [
    "cm = confusion_matrix(true_labels, prediction)\n",
    "sns.heatmap(cm, fmt='4',annot=True).set(ylabel=\"True Label\", xlabel=\"Predicted Label\")\n",
    "plt.show()\n",
    "plt.savefig('confusion_matrix.jpg')"
   ]
  },
  {
   "cell_type": "code",
   "execution_count": null,
   "id": "4f8daf63",
   "metadata": {},
   "outputs": [],
   "source": []
  }
 ],
 "metadata": {
  "kernelspec": {
   "display_name": "Python 3 (ipykernel)",
   "language": "python",
   "name": "python3"
  },
  "language_info": {
   "codemirror_mode": {
    "name": "ipython",
    "version": 3
   },
   "file_extension": ".py",
   "mimetype": "text/x-python",
   "name": "python",
   "nbconvert_exporter": "python",
   "pygments_lexer": "ipython3",
   "version": "3.9.12"
  }
 },
 "nbformat": 4,
 "nbformat_minor": 5
}
